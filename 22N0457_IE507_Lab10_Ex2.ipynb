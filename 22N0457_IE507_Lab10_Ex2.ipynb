{
  "nbformat": 4,
  "nbformat_minor": 0,
  "metadata": {
    "colab": {
      "provenance": [],
      "collapsed_sections": []
    },
    "kernelspec": {
      "name": "python3",
      "display_name": "Python 3"
    }
  },
  "cells": [
    {
      "cell_type": "markdown",
      "metadata": {
        "id": "hiPHExW9FI3g"
      },
      "source": [
        "# Simulation using Python 2\n",
        "### Monte Carlo Simulation\n",
        "[Numpy Random website](https://docs.scipy.org/doc/numpy-1.14.1/reference/routines.random.html)"
      ]
    },
    {
      "cell_type": "code",
      "metadata": {
        "id": "soQGRBwZYaTz"
      },
      "source": [
        "#Runs these import commands\n",
        "import numpy.random as rnd\n",
        "import numpy as np\n",
        "import matplotlib.pyplot as plt"
      ],
      "execution_count": 1,
      "outputs": []
    },
    {
      "cell_type": "markdown",
      "metadata": {
        "id": "veay_gg8FOlS"
      },
      "source": [
        "**Scenario M1: Estimate PI**\n",
        "\n",
        "Consider a quarter circle inscribed inside a unit square.  Radius of cirle is 1.\n",
        "\n",
        "$Area_{quartercircle} = \\pi /4$ and $Area_{square} = 1$\n",
        "\n",
        "Now, suppose we randomly sample points, then $Area_{quartercircle} \\approx \\text{number_of_points_inside_circle}$\n",
        "\n",
        "$\\pi = 4*$ number_of_points_inside_circle / n\n",
        "\n",
        "\n",
        "![ForPi.png](data:image/png;base64,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)\n"
      ]
    },
    {
      "cell_type": "markdown",
      "metadata": {
        "id": "9xfytTZyXbCV"
      },
      "source": [
        "**Algorithm: **\n",
        "```\n",
        "for i in range(n):\n",
        "  Generate x ~ Unif[0,1]\n",
        "  Generate Y ~ Unif[0,1]\n",
        "  if (x^2 + y^2) <=1:\n",
        "    count_in_circle =  count_in_circle + 1\n",
        "\n",
        "Estimate PI as 4*count_in_circle/n\n",
        "```"
      ]
    },
    {
      "cell_type": "code",
      "metadata": {
        "id": "dNkToapVFNEP",
        "colab": {
          "base_uri": "https://localhost:8080/"
        },
        "outputId": "676bd1a2-c3b7-4c0a-d126-29bb2fa07f96"
      },
      "source": [
        "#Write your code here\n",
        "\n",
        "count=0\n",
        "n=10**7\n",
        "rnd.seed(125)\n",
        "for i in range(n):\n",
        "   if rnd.uniform()**2+rnd.uniform()**2<1:\n",
        "     count+=1\n",
        "print((count/n)*4)\n",
        "\n"
      ],
      "execution_count": 2,
      "outputs": [
        {
          "output_type": "stream",
          "name": "stdout",
          "text": [
            "3.1424\n"
          ]
        }
      ]
    },
    {
      "cell_type": "markdown",
      "source": [
        "it is approx same value of $\\pi $ "
      ],
      "metadata": {
        "id": "7yoThCIxRnWy"
      }
    },
    {
      "cell_type": "code",
      "source": [
        "np.pi"
      ],
      "metadata": {
        "colab": {
          "base_uri": "https://localhost:8080/"
        },
        "id": "HcIEv__0b8TE",
        "outputId": "7bdc8472-204c-476b-c3d7-c43027500aba"
      },
      "execution_count": 3,
      "outputs": [
        {
          "output_type": "execute_result",
          "data": {
            "text/plain": [
              "3.141592653589793"
            ]
          },
          "metadata": {},
          "execution_count": 3
        }
      ]
    },
    {
      "cell_type": "markdown",
      "metadata": {
        "id": "EZWE4iYMcZIE"
      },
      "source": [
        "**Scenario M2** A project consists of three tasks: A, B and C. Task A and B can be done in parallel, while C can being only after A and B are completed. The time for task A, is exponentially distributed with mean 10 hours; the time for task B is uniformly distributed between 6 and 14 hours; and the time for task C, is normally distributed with mean 10 hours and std. dev. 3.\n",
        "What is the probability that the project will be completed within 22 hours?\n",
        "\n",
        "*Algorithm*\n",
        "```\n",
        "for i in range(n):\n",
        "  Generate A ~ Expo(mean=10 hours)\n",
        "  Generate B ~ Unif[6, 14]\n",
        "  Generate C ~ Normal(mean=10, s.d=3)\n",
        "  Totaltime = max(A,B) + C\n",
        "  if Totaltime <= 22:\n",
        "    count = count + 1\n",
        " \n",
        "Estimate Probability as count /n\n",
        "```"
      ]
    },
    {
      "cell_type": "code",
      "source": [
        "#Write your code here\n",
        "\n",
        "rnd.seed(105)\n",
        "n=10**5\n",
        "count = 0\n",
        "for i in range(n):\n",
        "  a=rnd.exponential(10)\n",
        "  b=rnd.uniform(6,14)\n",
        "  c=rnd.normal(10,3)\n",
        "  total_time=max(a,b) + c\n",
        "  if total_time <=22:\n",
        "    count+=1\n",
        "print('probability of time<=22',count/n)"
      ],
      "metadata": {
        "colab": {
          "base_uri": "https://localhost:8080/"
        },
        "id": "E-958PlgSVxt",
        "outputId": "8e0674d0-10b6-4aef-ec53-bf92fa8849a9"
      },
      "execution_count": 4,
      "outputs": [
        {
          "output_type": "stream",
          "name": "stdout",
          "text": [
            "probability of time<=22 0.50435\n"
          ]
        }
      ]
    },
    {
      "cell_type": "markdown",
      "source": [
        "probability of time<=22 0.50435"
      ],
      "metadata": {
        "id": "_ZsW1xxnTqxs"
      }
    },
    {
      "cell_type": "code",
      "metadata": {
        "id": "J3MEBlD6cicz"
      },
      "source": [
        "\n",
        "dist=[]\n",
        "rnd.seed(105)\n",
        "for k in range(1,50):\n",
        "  n=10**5\n",
        "  count = 0\n",
        "  for i in range(n):\n",
        "    a=rnd.exponential(10)\n",
        "    b=rnd.uniform(6,14)\n",
        "    c=rnd.normal(10,3)\n",
        "    total_time=max(a,b) + c\n",
        "    if total_time <=k:\n",
        "      count+=1\n",
        "  dist.append(count/n)"
      ],
      "execution_count": 5,
      "outputs": []
    },
    {
      "cell_type": "code",
      "source": [
        "plt.bar(range(1,50),dist)\n",
        "plt.xlabel(\"time\")\n",
        "plt.ylabel(\"probability\")"
      ],
      "metadata": {
        "colab": {
          "base_uri": "https://localhost:8080/",
          "height": 296
        },
        "id": "xdsVasXDf6D7",
        "outputId": "cbfbc9c8-d085-49c3-d8b6-6901b920d297"
      },
      "execution_count": 6,
      "outputs": [
        {
          "output_type": "execute_result",
          "data": {
            "text/plain": [
              "Text(0, 0.5, 'probability')"
            ]
          },
          "metadata": {},
          "execution_count": 6
        },
        {
          "output_type": "display_data",
          "data": {
            "text/plain": [
              "<Figure size 432x288 with 1 Axes>"
            ],
            "image/png": "[encoded data removed]"
          },
          "metadata": {
            "needs_background": "light"
          }
        }
      ]
    },
    {
      "cell_type": "markdown",
      "metadata": {
        "id": "SQhYXswrpBcM"
      },
      "source": [
        ".**Scenario M3**\n",
        "\n",
        "Consider the maze shown. There are 3 cells (Cell 1, Cell 2, Cell 3) and two deadly and permanent outcomes (Death by poison and Death by drowning). When rat enters Cell i, he wanders around within the cell for Xi minutes where Xi is\n",
        "Gamma(4, 3i) , and then exits the cell by picking one of the doors (shown as gaps in the figure) at random. Rat is initially in Cell 1. Answer the following using Monte Carlo Simulation.\n",
        "\n",
        "(a) Estimate the probability that the rat dies by poison.\n",
        "\n",
        "(b) What is the expected duration the rat lives?\n",
        "\n",
        "![image.png](data:image/png;base64,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)"
      ]
    },
    {
      "cell_type": "markdown",
      "metadata": {
        "id": "EkBc2_kSpu3A"
      },
      "source": [
        "*Algorithm*\n",
        "```\n",
        "durations=[]\n",
        "Poisoncount = 0\n",
        "\n",
        "for i in range(n): #We will simulate rat movement for n rounds.\n",
        "  currentCell=1\n",
        "  timespent=0.0\n",
        "  while (currentCell not in [4, 5]):\n",
        "    timespent = timespent + Gamma(4,3*currentCell)\n",
        "    if currentCell == 1:\n",
        "      #choose cell 2 or 5 randomly  #5 can indicate Water cell\n",
        "    elif currentCell == 2:\n",
        "      #choose cell 1 or 3 or 4 #4 can indicate Poison cell\n",
        "    else: #currentCell is 3\n",
        "      #choose cell 2 or 4 or 5 \n",
        "  \n",
        "    if currentCell == 4:\n",
        "      Poisoncount = Poisoncount+1\n",
        "\n",
        "  durations.append(timespent)\n",
        "\n",
        "##print the results\n",
        "```\n"
      ]
    },
    {
      "cell_type": "code",
      "metadata": {
        "id": "3pDC3y4_pAki",
        "colab": {
          "base_uri": "https://localhost:8080/"
        },
        "outputId": "5824790c-85d3-4ea7-b831-001a7392dc4b"
      },
      "source": [
        "durations=[]\n",
        "Poisoncount=0\n",
        "n=10**5\n",
        "for i in range(n):\n",
        "  currentcell=1\n",
        "  timespent=0.0\n",
        "  while currentcell not in [4,5]:\n",
        "    timespent=timespent+rnd.gamma(4,3*currentcell)\n",
        "    if currentcell==1:\n",
        "      currentcell=rnd.choice([2,5],p=[0.5,0.5])\n",
        "    elif currentcell==2:\n",
        "      currentcell=rnd.choice([1,3,4],p=[0.25,0.5,0.25])\n",
        "    else :\n",
        "      currentcell=rnd.choice([2,4,5],p=[0.5,0.25,0.25])\n",
        "    if currentcell==4:\n",
        "      Poisoncount+=1\n",
        "  durations.append(timespent)\n",
        "print(\"avg time spent=\",np.mean(durations),\"min time spent =\",np.min(durations),\"max time spent\",np.max(durations))\n",
        "print(\"probability of rat dies by poisson\",Poisoncount/n)"
      ],
      "execution_count": 7,
      "outputs": [
        {
          "output_type": "stream",
          "name": "stdout",
          "text": [
            "avg time spent= 48.11444544011369 min time spent = 0.5530077373002651 max time spent 657.4620123598247\n",
            "probability of rat dies by poisson 0.2997\n"
          ]
        }
      ]
    },
    {
      "cell_type": "code",
      "source": [
        "plt.plot(durations)"
      ],
      "metadata": {
        "colab": {
          "base_uri": "https://localhost:8080/",
          "height": 282
        },
        "id": "RFjP3j_yUXt-",
        "outputId": "c839b7f7-a027-4aa7-9bef-27cd5806fe0c"
      },
      "execution_count": 8,
      "outputs": [
        {
          "output_type": "execute_result",
          "data": {
            "text/plain": [
              "[<matplotlib.lines.Line2D at 0x7fb403d17450>]"
            ]
          },
          "metadata": {},
          "execution_count": 8
        },
        {
          "output_type": "display_data",
          "data": {
            "text/plain": [
              "<Figure size 432x288 with 1 Axes>"
            ],
            "image/png": "[encoded data removed]"
          },
          "metadata": {
            "needs_background": "light"
          }
        }
      ]
    },
    {
      "cell_type": "markdown",
      "metadata": {
        "id": "jx3mhvhf_p-1"
      },
      "source": [
        "**Exercise**\n",
        "\n",
        "Newspaper vendor at a railway station buys newspaper at Rs. 3.50 and sells it at Rs.4.50. At the end of the day, the unsold newspapers are sold to raddhiwala for Rs.0.25. Estimate the expected profit if the vendor buys 40 newspapers.\n",
        "\n",
        "Compare the results when:\n",
        "\n",
        "*   Demand for newspaper is Poisson random variable with mean 50\n",
        "*   Demand for newspaper is Normal random variable with mean 50 & s.d. 5"
      ]
    },
    {
      "cell_type": "markdown",
      "source": [
        "## if we consider penalty for not fullfill the demand like in newsvendor model if we didn't fullfill the demand we consider penalty for that i.e understocking cost (here we can consider profit as penalty cost/understocking cost \n",
        "\n",
        "let x be the demand of newspaper which distribution is given  we can consider our daily loss as understockingcost$*$ max(x,40) + overstocking cost$*$max(0,40-x)\n",
        "\n",
        "and our daily profit from selling newpaper  is given by profit*min(x,40)-(understockingcost$*$max(x,40) + overstocking cost$*$max(0,40-x))"
      ],
      "metadata": {
        "id": "0uMbZp06hjaW"
      }
    },
    {
      "cell_type": "code",
      "metadata": {
        "id": "L6vhXeqhdgk-",
        "colab": {
          "base_uri": "https://localhost:8080/",
          "height": 282
        },
        "outputId": "d9414be9-ad9a-4748-9a04-323c6d64b6bc"
      },
      "source": [
        "daily_loss=[]\n",
        "profit=[]\n",
        "n=10**5\n",
        "rnd.seed(105)\n",
        "for i in range(n):\n",
        "  x=rnd.poisson(50)\n",
        "  daily_loss.append(1*max(0,x-40)+3.25*max(0,40-x))\n",
        "  profit.append(1*min(x,40)-(1*max(0,x-40)+3.25*max(0,40-x)))\n",
        "plt.hist(profit)\n",
        "print(\"expected profit by vendor when poisson distribution\",np.mean(profit))"
      ],
      "execution_count": 9,
      "outputs": [
        {
          "output_type": "stream",
          "name": "stdout",
          "text": [
            "expected profit by vendor when poisson distribution 28.841595\n"
          ]
        },
        {
          "output_type": "display_data",
          "data": {
            "text/plain": [
              "<Figure size 432x288 with 1 Axes>"
            ],
            "image/png": "[encoded data removed]"
          },
          "metadata": {
            "needs_background": "light"
          }
        }
      ]
    },
    {
      "cell_type": "code",
      "source": [
        "daily_loss1=[]\n",
        "profit1=[]\n",
        "n=10**5\n",
        "rnd.seed(105)\n",
        "for i in range(n):\n",
        "  x=rnd.normal(50,5)\n",
        "  daily_loss1.append(1*max(0,x-40)+3.25*max(0,40-x))\n",
        "  profit1.append(1*min(x,40)-(1*max(0,x-40)+3.25*max(0,40-x)))\n",
        "plt.hist(profit1)\n",
        "print(\"expected profit by vendor when normal distribution\",np.mean(profit))\n"
      ],
      "metadata": {
        "colab": {
          "base_uri": "https://localhost:8080/",
          "height": 282
        },
        "id": "mHcNbp0jp9D-",
        "outputId": "31268043-8dd2-4620-c7af-aadfb08b0bdb"
      },
      "execution_count": 10,
      "outputs": [
        {
          "output_type": "stream",
          "name": "stdout",
          "text": [
            "expected profit by vendor when normal distribution 28.841595\n"
          ]
        },
        {
          "output_type": "display_data",
          "data": {
            "text/plain": [
              "<Figure size 432x288 with 1 Axes>"
            ],
            "image/png": "[encoded data removed]"
          },
          "metadata": {
            "needs_background": "light"
          }
        }
      ]
    },
    {
      "cell_type": "markdown",
      "source": [
        "expected profit by vendor when poisson distribution 28.841595\n",
        "\n",
        "expected profit by vendor when normal distribution 28.841595"
      ],
      "metadata": {
        "id": "xBjNpPDDm-Bo"
      }
    },
    {
      "cell_type": "markdown",
      "source": [
        "##if there is no penalty for understocking cost then our problem is\n",
        "\n",
        "daily profit=profit*min(x,40)- overstocking cost$*$max(0,40-x)"
      ],
      "metadata": {
        "id": "ccwoXT4ZlEtU"
      }
    },
    {
      "cell_type": "code",
      "source": [
        "daily_loss=[]\n",
        "profit=[]\n",
        "n=10**5\n",
        "for i in range(n):\n",
        "  x=rnd.poisson(50)\n",
        "  daily_loss.append(1*max(0,x-40)+3.25*max(0,40-x))\n",
        "  profit.append(1*min(x,40) - 3.25*max(0,40-x))\n",
        "plt.hist(profit)\n",
        "print(\"expected profit by vendor when poisson distribution\",np.mean(profit))"
      ],
      "metadata": {
        "colab": {
          "base_uri": "https://localhost:8080/",
          "height": 282
        },
        "id": "rrvqA7_1l46T",
        "outputId": "00ad9153-79cc-4017-a22e-839c0e44a5ce"
      },
      "execution_count": 11,
      "outputs": [
        {
          "output_type": "stream",
          "name": "stdout",
          "text": [
            "expected profit by vendor when poisson distribution 39.078345\n"
          ]
        },
        {
          "output_type": "display_data",
          "data": {
            "text/plain": [
              "<Figure size 432x288 with 1 Axes>"
            ],
            "image/png": "[encoded data removed]"
          },
          "metadata": {
            "needs_background": "light"
          }
        }
      ]
    },
    {
      "cell_type": "code",
      "source": [
        "daily_loss1=[]\n",
        "profit1=[]\n",
        "n=10**5\n",
        "for i in range(n):\n",
        "  x=rnd.normal(50,5)\n",
        "  daily_loss1.append(1*max(0,x-40)+3.25*max(0,40-x))\n",
        "  profit1.append(1*min(x,40)-3.25*max(0,40-x))\n",
        "plt.hist(profit1)\n",
        "print(\"expected profit by vendor when normal distribution\",np.mean(profit))"
      ],
      "metadata": {
        "colab": {
          "base_uri": "https://localhost:8080/",
          "height": 282
        },
        "id": "uKjKxG0_l49r",
        "outputId": "4e7a80e7-8cb0-43c8-ab5f-3e093266cfc6"
      },
      "execution_count": 12,
      "outputs": [
        {
          "output_type": "stream",
          "name": "stdout",
          "text": [
            "expected profit by vendor when normal distribution 39.078345\n"
          ]
        },
        {
          "output_type": "display_data",
          "data": {
            "text/plain": [
              "<Figure size 432x288 with 1 Axes>"
            ],
            "image/png": "[encoded data removed]"
          },
          "metadata": {
            "needs_background": "light"
          }
        }
      ]
    },
    {
      "cell_type": "markdown",
      "source": [
        "expected profit by vendor when poisson distribution 39.078345\n",
        "\n",
        "expected profit by vendor when normal distribution 39.078345"
      ],
      "metadata": {
        "id": "mfzKhQmVVslc"
      }
    }
  ]
}