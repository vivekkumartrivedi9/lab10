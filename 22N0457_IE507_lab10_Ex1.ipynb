{
  "cells": [
    {
      "cell_type": "markdown",
      "metadata": {
        "id": "uT_cmDH4VNUW"
      },
      "source": [
        "# Simulation using Python 1\n",
        "### Using Numpy's random package\n",
        "\n",
        "[Numpy Random website](https://docs.scipy.org/doc/numpy-1.14.1/reference/routines.random.html)"
      ]
    },
    {
      "cell_type": "markdown",
      "metadata": {
        "id": "L7CjxntgVigf"
      },
      "source": [
        "**import packages**"
      ]
    },
    {
      "cell_type": "code",
      "execution_count": 1,
      "metadata": {
        "id": "xZ6aaRKXV4PY"
      },
      "outputs": [],
      "source": [
        "#run this code first\n",
        "import numpy.random as rnd\n",
        "import numpy as np\n",
        "import matplotlib.pyplot as plt\n",
        "import pandas as pd\n"
      ]
    },
    {
      "cell_type": "markdown",
      "metadata": {
        "id": "YNR-O4lWhEyf"
      },
      "source": [
        "**Example 1a: Roll a die 10 times and observe output**\n",
        "\n",
        "We will use randint() function for this"
      ]
    },
    {
      "cell_type": "code",
      "execution_count": 2,
      "metadata": {
        "colab": {
          "base_uri": "https://localhost:8080/"
        },
        "id": "6_A7ygliYCBZ",
        "outputId": "defeff9e-45e1-48f1-a67b-274a3315f9c6"
      },
      "outputs": [
        {
          "output_type": "execute_result",
          "data": {
            "text/plain": [
              "4"
            ]
          },
          "metadata": {},
          "execution_count": 2
        }
      ],
      "source": [
        "#run this code.  Click play multiple times to simulate multiple dice throws\n",
        "rnd.randint(1,6+1)"
      ]
    },
    {
      "cell_type": "code",
      "execution_count": 3,
      "metadata": {
        "colab": {
          "base_uri": "https://localhost:8080/"
        },
        "id": "zsKvSPgnYEm6",
        "outputId": "82384b24-af45-4f3a-e6cf-92c591c40742"
      },
      "outputs": [
        {
          "output_type": "stream",
          "name": "stdout",
          "text": [
            "4, 4, 4, 2, 4, 3, 2, 5, 6, 1, "
          ]
        }
      ],
      "source": [
        "#insert code here to simulate 10 rolls of a die, and print the output.\n",
        "one_dice=[]\n",
        "for i in range(10):\n",
        "  b=rnd.randint(1,6+1)\n",
        "  one_dice.append(b)\n",
        "  print(b,end=', ')"
      ]
    },
    {
      "cell_type": "markdown",
      "metadata": {
        "id": "kMa9iXXOhYMz"
      },
      "source": [
        "**Example 1b: Roll a pair of dice N times, and plot histogram**\n",
        "\n",
        "We will use randint() function for this; use matplotlib.pyplot for plotting"
      ]
    },
    {
      "cell_type": "code",
      "execution_count": 4,
      "metadata": {
        "colab": {
          "base_uri": "https://localhost:8080/"
        },
        "id": "4uVftSjiYj5C",
        "outputId": "ff8504db-321a-4079-969a-f95022a25e37"
      },
      "outputs": [
        {
          "output_type": "execute_result",
          "data": {
            "text/plain": [
              "9"
            ]
          },
          "metadata": {},
          "execution_count": 4
        }
      ],
      "source": [
        "#Code adds the output of two 'dice throws'. Run code multiple times.\n",
        "rnd.randint(1,6+1) + rnd.randint(1,6+1)"
      ]
    },
    {
      "cell_type": "code",
      "execution_count": 5,
      "metadata": {
        "colab": {
          "base_uri": "https://localhost:8080/"
        },
        "id": "DWhdFD8fHr_N",
        "outputId": "0482f5b1-2610-4bdb-d357-0a0f2993e285"
      },
      "outputs": [
        {
          "output_type": "execute_result",
          "data": {
            "text/plain": [
              "12"
            ]
          },
          "metadata": {},
          "execution_count": 5
        }
      ],
      "source": [
        "#this is wrong\n",
        "\n",
        "2*rnd.randint(1,6+1)"
      ]
    },
    {
      "cell_type": "code",
      "execution_count": 6,
      "metadata": {
        "colab": {
          "base_uri": "https://localhost:8080/"
        },
        "id": "Q3Ou0-00YOKB",
        "outputId": "2a74c55c-efc9-486e-d744-328a3a730f38"
      },
      "outputs": [
        {
          "output_type": "stream",
          "name": "stdout",
          "text": [
            "7, 9, 12, 9, 5, 7, 3, 6, 6, 4, "
          ]
        }
      ],
      "source": [
        "#Code here simulates 10 dice throws.\n",
        "for i in range(10):\n",
        "  print(rnd.randint(1,6+1) + rnd.randint(1,6+1), end=', ')"
      ]
    },
    {
      "cell_type": "code",
      "execution_count": 7,
      "metadata": {
        "colab": {
          "base_uri": "https://localhost:8080/",
          "height": 317
        },
        "id": "I1qr9mvzY479",
        "outputId": "b2d12957-2a96-47fd-a912-a3048638a923"
      },
      "outputs": [
        {
          "output_type": "execute_result",
          "data": {
            "text/plain": [
              "(array([ 29.,  63.,  87., 110., 156., 147., 134., 113.,  82.,  55.,  24.]),\n",
              " array([ 2,  3,  4,  5,  6,  7,  8,  9, 10, 11, 12, 13]),\n",
              " <a list of 11 Patch objects>)"
            ]
          },
          "metadata": {},
          "execution_count": 7
        },
        {
          "output_type": "display_data",
          "data": {
            "text/plain": [
              "<Figure size 432x288 with 1 Axes>"
            ],
            "image/png": "[encoded data removed]"
          },
          "metadata": {
            "needs_background": "light"
          }
        }
      ],
      "source": [
        "# Simulate N throws of pair of dice, and plot histogram\n",
        "# See if you can use bins in histogram to get a better plot\n",
        "n=1000\n",
        "x=[]\n",
        "for i in range(n):\n",
        "  x.append(rnd.randint(1,6+1)+rnd.randint(1,6+1))\n",
        "\n",
        "plt.hist(x,bins=[2,3,4,5,6,7,8,9,10,11,12,13])\n",
        "#2<=x<3 and 11<=x<=12"
      ]
    },
    {
      "cell_type": "code",
      "source": [
        "# Simulate N throws of pair of dice, and plot histogram\n",
        "# See if you can use bins in histogram to get a better plot\n",
        "n=1000\n",
        "x=[]\n",
        "for i in range(n):\n",
        "  x.append(rnd.randint(1,6+1)+rnd.randint(1,6+1))\n",
        "\n",
        "plt.hist(x)\n",
        "#2<=x<3 and 11<=x<=12"
      ],
      "metadata": {
        "colab": {
          "base_uri": "https://localhost:8080/",
          "height": 317
        },
        "id": "XWsrMzXMNliD",
        "outputId": "7f308f17-f5eb-4271-938d-2f90c134cb69"
      },
      "execution_count": 8,
      "outputs": [
        {
          "output_type": "execute_result",
          "data": {
            "text/plain": [
              "(array([ 23.,  58., 108., 103., 126., 171., 146., 112.,  70.,  83.]),\n",
              " array([ 2.,  3.,  4.,  5.,  6.,  7.,  8.,  9., 10., 11., 12.]),\n",
              " <a list of 10 Patch objects>)"
            ]
          },
          "metadata": {},
          "execution_count": 8
        },
        {
          "output_type": "display_data",
          "data": {
            "text/plain": [
              "<Figure size 432x288 with 1 Axes>"
            ],
            "image/png": "[encoded data removed]"
          },
          "metadata": {
            "needs_background": "light"
          }
        }
      ]
    },
    {
      "cell_type": "code",
      "execution_count": 9,
      "metadata": {
        "colab": {
          "base_uri": "https://localhost:8080/",
          "height": 352
        },
        "id": "Ge-9fmP1KKz0",
        "outputId": "fb1944f1-8c21-499c-f98d-dc5d2b6ef1b6"
      },
      "outputs": [
        {
          "output_type": "execute_result",
          "data": {
            "text/plain": [
              "(array([ 23.,  58., 108., 103., 126., 171., 146., 112.,  70.,  54.,  29.]),\n",
              " array([ 2.        ,  2.90909091,  3.81818182,  4.72727273,  5.63636364,\n",
              "         6.54545455,  7.45454545,  8.36363636,  9.27272727, 10.18181818,\n",
              "        11.09090909, 12.        ]),\n",
              " <a list of 11 Patch objects>)"
            ]
          },
          "metadata": {},
          "execution_count": 9
        },
        {
          "output_type": "display_data",
          "data": {
            "text/plain": [
              "<Figure size 432x288 with 1 Axes>"
            ],
            "image/png": "[encoded data removed]"
          },
          "metadata": {
            "needs_background": "light"
          }
        }
      ],
      "source": [
        "plt.hist(x,bins=11)"
      ]
    },
    {
      "cell_type": "code",
      "execution_count": 10,
      "metadata": {
        "colab": {
          "base_uri": "https://localhost:8080/",
          "height": 354
        },
        "id": "QGvaiPVzJ4yE",
        "outputId": "aaecc60e-6b61-44d2-f5de-639e60e13f23"
      },
      "outputs": [
        {
          "output_type": "execute_result",
          "data": {
            "text/plain": [
              "(array([ 24.,  60.,  74., 123., 129., 138., 154., 118.,  93.,  52.,  35.]),\n",
              " array([ 2.        ,  2.90909091,  3.81818182,  4.72727273,  5.63636364,\n",
              "         6.54545455,  7.45454545,  8.36363636,  9.27272727, 10.18181818,\n",
              "        11.09090909, 12.        ]),\n",
              " <a list of 11 Patch objects>)"
            ]
          },
          "metadata": {},
          "execution_count": 10
        },
        {
          "output_type": "display_data",
          "data": {
            "text/plain": [
              "<Figure size 432x288 with 1 Axes>"
            ],
            "image/png": "[encoded data removed]"
          },
          "metadata": {
            "needs_background": "light"
          }
        }
      ],
      "source": [
        "# Simulate N throws of pair of dice, and plot histogram\n",
        "# See if you can use bins in histogram to get a better plot\n",
        "n=1000\n",
        "x=[]\n",
        "for i in range(n):\n",
        "  x.append(rnd.randint(1,6+1)+rnd.randint(1,6+1))\n",
        "\n",
        "plt.hist(x,bins=11)\n",
        "#2<=x<3 and 11<=x<=12"
      ]
    },
    {
      "cell_type": "code",
      "execution_count": 11,
      "metadata": {
        "colab": {
          "base_uri": "https://localhost:8080/"
        },
        "id": "z-Nb4P6kIV3r",
        "outputId": "a5ed7120-6227-4630-9e8e-31b6e88ac906"
      },
      "outputs": [
        {
          "output_type": "execute_result",
          "data": {
            "text/plain": [
              "27.777777777777775"
            ]
          },
          "metadata": {},
          "execution_count": 11
        }
      ],
      "source": [
        "(1/36)*1000"
      ]
    },
    {
      "cell_type": "markdown",
      "metadata": {
        "id": "TycNwmAPiEux"
      },
      "source": [
        "**Example 1c,1d: Toss a fair/unfair coin 10 times**\n",
        "\n",
        "Use choice() function"
      ]
    },
    {
      "cell_type": "code",
      "execution_count": 12,
      "metadata": {
        "colab": {
          "base_uri": "https://localhost:8080/"
        },
        "id": "Eo-lMDhvZHY9",
        "outputId": "d9669235-65cb-429d-8ffa-a46ddaeb9534"
      },
      "outputs": [
        {
          "output_type": "stream",
          "name": "stdout",
          "text": [
            "Tails\n",
            "Heads\n",
            "Heads\n",
            "Tails\n",
            "Tails\n",
            "Tails\n",
            "Heads\n",
            "Tails\n",
            "Heads\n",
            "Tails\n"
          ]
        }
      ],
      "source": [
        "#insert code here to simulate toss a fair coin, choice(coin)\n",
        "coin=['Heads', 'Tails']\n",
        "for i in range(10):\n",
        " print(rnd.choice(coin))"
      ]
    },
    {
      "cell_type": "code",
      "execution_count": 13,
      "metadata": {
        "colab": {
          "base_uri": "https://localhost:8080/"
        },
        "id": "DKQ4dfi0aFi0",
        "outputId": "76a34b02-2a83-43a5-a8d6-fc6b077e758e"
      },
      "outputs": [
        {
          "output_type": "stream",
          "name": "stdout",
          "text": [
            "Heads\n",
            "Heads\n",
            "Heads\n",
            "Tails\n",
            "Heads\n",
            "Tails\n",
            "Tails\n",
            "Tails\n",
            "Heads\n",
            "Heads\n"
          ]
        }
      ],
      "source": [
        "#insert code here to simulate toss an unfair coin, with P{H}=0.8. \n",
        "#use choice(coin, p=[0.8, 0.2])\n",
        "coin=['Heads', 'Tails']\n",
        "for i in range(10):\n",
        " print(rnd.choice(coin,p=[0.8,0.2]))"
      ]
    },
    {
      "cell_type": "code",
      "execution_count": 14,
      "metadata": {
        "colab": {
          "base_uri": "https://localhost:8080/"
        },
        "id": "SRqkKjQmco-A",
        "outputId": "5af6f62e-2193-40bc-f3d5-13381222a93a"
      },
      "outputs": [
        {
          "output_type": "execute_result",
          "data": {
            "text/plain": [
              "array(['Heads', 'Tails', 'Heads', 'Heads', 'Heads', 'Heads', 'Tails',\n",
              "       'Heads', 'Heads', 'Heads'], dtype='<U5')"
            ]
          },
          "metadata": {},
          "execution_count": 14
        }
      ],
      "source": [
        "#A more compact code. Use  choice(coin, p=[0.8, 0.2], size=10)\n",
        "coin=['Heads', 'Tails']\n",
        "rnd.choice(coin,p=[0.8,0.2],size=10)"
      ]
    },
    {
      "cell_type": "markdown",
      "metadata": {
        "id": "1VOycON2Cf4I"
      },
      "source": [
        "After such experiments, one may want to simply count the number of heads and tails, and perhaphs plot a bar chart of the aggregate results. We can do that as follows:"
      ]
    },
    {
      "cell_type": "code",
      "execution_count": 15,
      "metadata": {
        "colab": {
          "base_uri": "https://localhost:8080/",
          "height": 508
        },
        "id": "4ZUFGNrdDerA",
        "outputId": "e6433795-2bad-4c82-b0e3-ff6588f9444e"
      },
      "outputs": [
        {
          "output_type": "stream",
          "name": "stdout",
          "text": [
            "['Heads' 'Tails' 'Heads' 'Tails' 'Tails' 'Heads' 'Heads' 'Heads' 'Tails'\n",
            " 'Heads' 'Heads' 'Tails' 'Tails' 'Heads' 'Tails' 'Heads' 'Tails' 'Tails'\n",
            " 'Tails' 'Tails' 'Tails' 'Heads' 'Tails' 'Heads' 'Tails' 'Heads' 'Tails'\n",
            " 'Heads' 'Heads' 'Tails' 'Tails' 'Heads' 'Heads' 'Heads' 'Tails' 'Heads'\n",
            " 'Tails' 'Heads' 'Heads' 'Tails' 'Heads' 'Tails' 'Heads' 'Tails' 'Heads'\n",
            " 'Tails' 'Tails' 'Heads' 'Tails' 'Tails' 'Heads' 'Heads' 'Heads' 'Heads'\n",
            " 'Heads' 'Heads' 'Heads' 'Tails' 'Tails' 'Tails' 'Tails' 'Heads' 'Heads'\n",
            " 'Tails' 'Heads' 'Heads' 'Heads' 'Heads' 'Heads' 'Heads' 'Heads' 'Heads'\n",
            " 'Heads' 'Tails' 'Tails' 'Tails' 'Tails' 'Heads' 'Heads' 'Tails' 'Heads'\n",
            " 'Heads' 'Tails' 'Tails' 'Tails' 'Heads' 'Tails' 'Heads' 'Tails' 'Heads'\n",
            " 'Tails' 'Tails' 'Heads' 'Heads' 'Tails' 'Heads' 'Tails' 'Tails' 'Tails'\n",
            " 'Heads']\n",
            "{'Heads': 53, 'Tails': 47}\n"
          ]
        },
        {
          "output_type": "execute_result",
          "data": {
            "text/plain": [
              "<BarContainer object of 2 artists>"
            ]
          },
          "metadata": {},
          "execution_count": 15
        },
        {
          "output_type": "display_data",
          "data": {
            "text/plain": [
              "<Figure size 432x288 with 1 Axes>"
            ],
            "image/png": "[encoded data removed]"
          },
          "metadata": {
            "needs_background": "light"
          }
        }
      ],
      "source": [
        "outcomes = rnd.choice(coin, size=100) #Corresponds to 100 toss of a fair dice\n",
        "#the results are now stored in a variable called 'outcomes'. You can print(outcome) to view the results\n",
        "print(outcomes)\n",
        "\n",
        "#We need to now count the number of heads and tails we have got. \n",
        "#For that we create a dictonary with key as the options (Heads or Tails), and values as the count.\n",
        "from collections import Counter\n",
        "tosscount = dict(Counter(outcomes))\n",
        "\n",
        "#Print tosscount to view the results\n",
        "print(tosscount)\n",
        "\n",
        "#We can create a bar chart, with x-axis as the keys and y-axis as the values.\n",
        "plt.bar(tosscount.keys(), tosscount.values())"
      ]
    },
    {
      "cell_type": "code",
      "execution_count": 16,
      "metadata": {
        "colab": {
          "base_uri": "https://localhost:8080/",
          "height": 508
        },
        "id": "YXD3Dyi6MTe0",
        "outputId": "ffebc4ed-a478-418a-e6f0-55f6ed44bc3f"
      },
      "outputs": [
        {
          "output_type": "stream",
          "name": "stdout",
          "text": [
            "['Heads' 'Heads' 'Heads' 'Tails' 'Heads' 'Tails' 'Heads' 'Heads' 'Tails'\n",
            " 'Heads' 'Heads' 'Heads' 'Heads' 'Heads' 'Heads' 'Heads' 'Heads' 'Heads'\n",
            " 'Heads' 'Heads' 'Heads' 'Tails' 'Heads' 'Heads' 'Heads' 'Heads' 'Tails'\n",
            " 'Tails' 'Heads' 'Heads' 'Heads' 'Tails' 'Heads' 'Heads' 'Heads' 'Heads'\n",
            " 'Heads' 'Tails' 'Heads' 'Heads' 'Heads' 'Heads' 'Heads' 'Heads' 'Heads'\n",
            " 'Heads' 'Heads' 'Heads' 'Heads' 'Heads' 'Heads' 'Tails' 'Heads' 'Tails'\n",
            " 'Heads' 'Heads' 'Tails' 'Tails' 'Heads' 'Heads' 'Tails' 'Heads' 'Heads'\n",
            " 'Heads' 'Tails' 'Heads' 'Heads' 'Heads' 'Heads' 'Heads' 'Heads' 'Heads'\n",
            " 'Tails' 'Heads' 'Heads' 'Tails' 'Tails' 'Heads' 'Heads' 'Heads' 'Heads'\n",
            " 'Heads' 'Heads' 'Heads' 'Tails' 'Heads' 'Heads' 'Heads' 'Heads' 'Tails'\n",
            " 'Heads' 'Heads' 'Heads' 'Heads' 'Heads' 'Heads' 'Tails' 'Heads' 'Heads'\n",
            " 'Heads']\n",
            "{'Heads': 80, 'Tails': 20}\n"
          ]
        },
        {
          "output_type": "execute_result",
          "data": {
            "text/plain": [
              "<BarContainer object of 2 artists>"
            ]
          },
          "metadata": {},
          "execution_count": 16
        },
        {
          "output_type": "display_data",
          "data": {
            "text/plain": [
              "<Figure size 432x288 with 1 Axes>"
            ],
            "image/png": "[encoded data removed]"
          },
          "metadata": {
            "needs_background": "light"
          }
        }
      ],
      "source": [
        "\n",
        "\n",
        "\n",
        "outcomes = rnd.choice(coin,p=[0.8,0.2],size=100) #Corresponds to 100 toss of a fair dice\n",
        "#the results are now stored in a variable called 'outcomes'. You can print(outcome) to view the results\n",
        "print(outcomes)\n",
        "\n",
        "#We need to now count the number of heads and tails we have got. \n",
        "#For that we create a dictonary with key as the options (Heads or Tails), and values as the count.\n",
        "from collections import Counter\n",
        "tosscount = dict(Counter(outcomes))\n",
        "\n",
        "#Print tosscount to view the results\n",
        "print(tosscount)\n",
        "\n",
        "#We can create a bar chart, with x-axis as the keys and y-axis as the values.\n",
        "plt.bar(tosscount.keys(), tosscount.values())"
      ]
    },
    {
      "cell_type": "markdown",
      "metadata": {
        "id": "dt0uVvF-ifKy"
      },
      "source": [
        "**Example 1e: Sample 3 balls from a box with 5 red and 3 blue balls, without replacement**\n",
        "\n",
        "sampling using choice() function "
      ]
    },
    {
      "cell_type": "code",
      "execution_count": 17,
      "metadata": {
        "colab": {
          "base_uri": "https://localhost:8080/"
        },
        "id": "dPFuBcCDc7Dm",
        "outputId": "13ed1803-6020-4f79-9744-a16e7bc27f5f"
      },
      "outputs": [
        {
          "output_type": "execute_result",
          "data": {
            "text/plain": [
              "array(['red', 'blue', 'red', 'blue', 'blue', 'blue', 'red', 'blue', 'red'],\n",
              "      dtype='<U4')"
            ]
          },
          "metadata": {},
          "execution_count": 17
        }
      ],
      "source": [
        "#insert code here to simulate sampling without replacement. Use replace='False' in choice.\n",
        "box=['red','red','red','red','red','blue','blue','blue']\n",
        "rnd.choice(box,replace=True,size=9)"
      ]
    },
    {
      "cell_type": "code",
      "execution_count": 18,
      "metadata": {
        "colab": {
          "base_uri": "https://localhost:8080/"
        },
        "id": "zHEqi1uaNW9l",
        "outputId": "50ef63d8-c64d-49ab-f713-2a5fa0132d38"
      },
      "outputs": [
        {
          "output_type": "execute_result",
          "data": {
            "text/plain": [
              "array(['red', 'blue', 'red', 'blue', 'red', 'red', 'red', 'blue'],\n",
              "      dtype='<U4')"
            ]
          },
          "metadata": {},
          "execution_count": 18
        }
      ],
      "source": [
        "#insert code here to simulate sampling without replacement. Use replace='False' in choice.\n",
        "box=['red','red','red','red','red','blue','blue','blue']\n",
        "rnd.choice(box,replace=False,size=8)"
      ]
    },
    {
      "cell_type": "markdown",
      "metadata": {
        "id": "fywJnj-hiwqt"
      },
      "source": [
        "**Example 1f: Randomly shuffle a list of students**\n",
        "\n",
        "Use shuffle() function"
      ]
    },
    {
      "cell_type": "code",
      "execution_count": 19,
      "metadata": {
        "colab": {
          "base_uri": "https://localhost:8080/"
        },
        "id": "eduuS73peSiu",
        "outputId": "0e25ee61-b838-4844-df05-5159a9273b10"
      },
      "outputs": [
        {
          "output_type": "stream",
          "name": "stdout",
          "text": [
            "['alex', 'latha', 'bhanu', 'meena', 'manu', 'radha', 'sania', 'deepak', 'shyam', 'vijay']\n"
          ]
        }
      ],
      "source": [
        "#insert code here to shuffle a list\n",
        "students=['bhanu','shyam','radha','vijay','manu','deepak','meena','latha', 'alex', 'sania']\n",
        "rnd.shuffle(students)\n",
        "print(students)\n",
        "#original list changed here"
      ]
    },
    {
      "cell_type": "markdown",
      "metadata": {
        "id": "Sfe_K2ekyK9X"
      },
      "source": [
        "**Example 1g: Probability Distributions**\n",
        "\n",
        "Use random(), uniform(), triangular(), exponential() to generate sample"
      ]
    },
    {
      "cell_type": "code",
      "execution_count": 20,
      "metadata": {
        "colab": {
          "base_uri": "https://localhost:8080/"
        },
        "id": "mr_GHbBQyX6C",
        "outputId": "0b900f06-2051-4508-dcb4-69cb4516c59a"
      },
      "outputs": [
        {
          "output_type": "stream",
          "name": "stdout",
          "text": [
            "From random 0.12554915853170678\n",
            "from uniform 4.9232812830056965\n",
            "from tria(1,6,2) 3.21671458530828\n",
            "from exponential(2) 5.315879296810509\n"
          ]
        }
      ],
      "source": [
        "# Use random() function to generate numbers between 0 and 1\n",
        "# Use uniform(a,b) function to generate numbers between a=1 and b=6\n",
        "# Use triangular(low, mode, high) function to generate numbers triangular(1,2,6)\n",
        "# Use exponential(scale) function to generate numbers exponential(scale=2); scale = 1/lambda\n",
        "print('From random', rnd.random(()))\n",
        "print('from uniform', rnd.uniform(1,6))\n",
        "print('from tria(1,6,2)', rnd.triangular(1,2,6))\n",
        "print('from exponential(2)', rnd.exponential(2))"
      ]
    },
    {
      "cell_type": "markdown",
      "metadata": {
        "id": "gqI7nLL80Vh_"
      },
      "source": [
        "Next: Let's generate say 1000 samples from a distribution and plot the histogram to see the distribution"
      ]
    },
    {
      "cell_type": "code",
      "source": [
        "#Let's try uniform distribution\n",
        "y=[]\n",
        "n=10**3\n",
        "for i in range(n):\n",
        "  y.append(rnd.uniform(1,6))\n",
        "\n",
        "plt.hist(y)\n",
        "#change 10**q"
      ],
      "metadata": {
        "colab": {
          "base_uri": "https://localhost:8080/",
          "height": 352
        },
        "id": "e-c2Gx4KOb0s",
        "outputId": "d182f012-7530-4c76-8e79-2fbcb599ed99"
      },
      "execution_count": 21,
      "outputs": [
        {
          "output_type": "execute_result",
          "data": {
            "text/plain": [
              "(array([ 96.,  98.,  94., 114.,  97.,  94.,  93.,  95., 128.,  91.]),\n",
              " array([1.00850214, 1.50622717, 2.00395221, 2.50167724, 2.99940228,\n",
              "        3.49712731, 3.99485235, 4.49257738, 4.99030242, 5.48802745,\n",
              "        5.98575249]),\n",
              " <a list of 10 Patch objects>)"
            ]
          },
          "metadata": {},
          "execution_count": 21
        },
        {
          "output_type": "display_data",
          "data": {
            "text/plain": [
              "<Figure size 432x288 with 1 Axes>"
            ],
            "image/png": "[encoded data removed]"
          },
          "metadata": {
            "needs_background": "light"
          }
        }
      ]
    },
    {
      "cell_type": "code",
      "execution_count": 22,
      "metadata": {
        "colab": {
          "base_uri": "https://localhost:8080/",
          "height": 369
        },
        "id": "ACtJnev40e1X",
        "outputId": "555e5b3b-e721-4838-e5bf-f723b1ba620b"
      },
      "outputs": [
        {
          "output_type": "execute_result",
          "data": {
            "text/plain": [
              "(array([ 99558.,  99708., 100189.,  99934., 100220., 100090., 100204.,\n",
              "         99984., 100087., 100026.]),\n",
              " array([1.00000114, 1.50000038, 1.99999962, 2.49999886, 2.9999981 ,\n",
              "        3.49999735, 3.99999659, 4.49999583, 4.99999507, 5.49999431,\n",
              "        5.99999355]),\n",
              " <a list of 10 Patch objects>)"
            ]
          },
          "metadata": {},
          "execution_count": 22
        },
        {
          "output_type": "display_data",
          "data": {
            "text/plain": [
              "<Figure size 432x288 with 1 Axes>"
            ],
            "image/png": "[encoded data removed]"
          },
          "metadata": {
            "needs_background": "light"
          }
        }
      ],
      "source": [
        "#Let's try uniform distribution\n",
        "y=[]\n",
        "n=10**6\n",
        "for i in range(n):\n",
        "  y.append(rnd.uniform(1,6))\n",
        "\n",
        "plt.hist(y)\n",
        "#change 10**q"
      ]
    },
    {
      "cell_type": "code",
      "execution_count": 23,
      "metadata": {
        "colab": {
          "base_uri": "https://localhost:8080/",
          "height": 352
        },
        "id": "T5rf4ueP0w25",
        "outputId": "9ce120cb-d13a-487d-8a46-693d80dea634"
      },
      "outputs": [
        {
          "output_type": "execute_result",
          "data": {
            "text/plain": [
              "(array([517., 239., 108.,  73.,  33.,  18.,   5.,   3.,   3.,   1.]),\n",
              " array([1.80599735e-03, 1.35159432e+00, 2.70138264e+00, 4.05117096e+00,\n",
              "        5.40095929e+00, 6.75074761e+00, 8.10053593e+00, 9.45032425e+00,\n",
              "        1.08001126e+01, 1.21499009e+01, 1.34996892e+01]),\n",
              " <a list of 10 Patch objects>)"
            ]
          },
          "metadata": {},
          "execution_count": 23
        },
        {
          "output_type": "display_data",
          "data": {
            "text/plain": [
              "<Figure size 432x288 with 1 Axes>"
            ],
            "image/png": "[encoded data removed]"
          },
          "metadata": {
            "needs_background": "light"
          }
        }
      ],
      "source": [
        "#Let's try expo(2) distribution\n",
        "z=[]\n",
        "n=1000\n",
        "for i in range(n):\n",
        "  z.append(rnd.exponential(2))\n",
        "\n",
        "plt.hist(z)"
      ]
    },
    {
      "cell_type": "code",
      "execution_count": 24,
      "metadata": {
        "id": "XKBzsEZ5PW2m",
        "colab": {
          "base_uri": "https://localhost:8080/",
          "height": 456
        },
        "outputId": "e5723e95-a00a-41db-9e7c-03120d53bea4"
      },
      "outputs": [
        {
          "output_type": "execute_result",
          "data": {
            "text/plain": [
              "(array([[721., 204.,  54., ...,   0.,   0.,   0.],\n",
              "        [737., 202.,  47., ...,   0.,   0.,   0.],\n",
              "        [771., 174.,  43., ...,   0.,   0.,   0.],\n",
              "        ...,\n",
              "        [745., 188.,  51., ...,   1.,   0.,   0.],\n",
              "        [741., 212.,  34., ...,   0.,   0.,   0.],\n",
              "        [728., 206.,  51., ...,   0.,   0.,   0.]]),\n",
              " array([8.32540175e-07, 2.77028835e+00, 5.54057586e+00, 8.31086338e+00,\n",
              "        1.10811509e+01, 1.38514384e+01, 1.66217259e+01, 1.93920134e+01,\n",
              "        2.21623009e+01, 2.49325885e+01, 2.77028760e+01]),\n",
              " <a list of 1000 Lists of Patches objects>)"
            ]
          },
          "metadata": {},
          "execution_count": 24
        },
        {
          "output_type": "display_data",
          "data": {
            "text/plain": [
              "<Figure size 432x288 with 1 Axes>"
            ],
            "image/png": "[encoded data removed]"
          },
          "metadata": {
            "needs_background": "light"
          }
        }
      ],
      "source": [
        "# We can write a more compact code using \"size\" input inside the distribution function\n",
        "n=1000\n",
        "z= []\n",
        "for i in range(n):\n",
        "  z.append(rnd.exponential(2,size=n))\n",
        "plt.hist(z)"
      ]
    },
    {
      "cell_type": "markdown",
      "metadata": {
        "id": "eaQ-jxQH2v4Z"
      },
      "source": [
        "Next: Let's try simple probability exercises, compute P{X>=8}, where X ~ expo(mean=2)"
      ]
    },
    {
      "cell_type": "code",
      "execution_count": 25,
      "metadata": {
        "id": "owSVOBcK1crb",
        "colab": {
          "base_uri": "https://localhost:8080/"
        },
        "outputId": "d034762c-9010-4964-cdb6-022c94e706bf"
      },
      "outputs": [
        {
          "output_type": "stream",
          "name": "stdout",
          "text": [
            "P{X>=8} is  0.01834\n"
          ]
        }
      ],
      "source": [
        "# Suppose X ~Expo(mean=2), what is P(X>=8)? Rerun with different values of n (sample size) and observe the output\n",
        "count=0\n",
        "n=10**6\n",
        "#for replicable used seed\n",
        "rnd.seed(105)\n",
        "for i in range(n):\n",
        "  if (rnd.exponential(2)>= 8):\n",
        "    count = count+1\n",
        "\n",
        "print('P{X>=8} is ', count/n)"
      ]
    },
    {
      "cell_type": "markdown",
      "metadata": {
        "id": "C58ouJl927rR"
      },
      "source": [
        "In the above code, you see that the Prob. value keeps changing when you run it multiple times. To keep it the same, we need the simulator to use the same set of random numbers each time.  We can do that using ```seed()``` function.\n",
        "\n",
        "In the above code, before the ```for-loop ```, insert ```rnd.seed(3)``` and rerun the code"
      ]
    },
    {
      "cell_type": "markdown",
      "metadata": {
        "id": "gcJUwt8E3sXB"
      },
      "source": [
        "**Example 1h: Central limit Theorem**\n",
        "If $X_1, X_2, ..X_n$ are i.i.d random samples each of size $n$ taken from a population. Then the sample mean $\\bar{X}$ is Normally distributed."
      ]
    },
    {
      "cell_type": "code",
      "execution_count": 26,
      "metadata": {
        "id": "E7riElZe3XNT",
        "colab": {
          "base_uri": "https://localhost:8080/",
          "height": 352
        },
        "outputId": "36d56a63-cfab-4818-a33b-432961fd596a"
      },
      "outputs": [
        {
          "output_type": "execute_result",
          "data": {
            "text/plain": [
              "(array([3., 2., 4., 3., 3., 1., 3., 0., 0., 1.]),\n",
              " array([1.71516653, 1.79506242, 1.87495831, 1.9548542 , 2.03475009,\n",
              "        2.11464598, 2.19454187, 2.27443776, 2.35433365, 2.43422954,\n",
              "        2.51412543]),\n",
              " <a list of 10 Patch objects>)"
            ]
          },
          "metadata": {},
          "execution_count": 26
        },
        {
          "output_type": "display_data",
          "data": {
            "text/plain": [
              "<Figure size 432x288 with 1 Axes>"
            ],
            "image/png": "[encoded data removed]"
          },
          "metadata": {
            "needs_background": "light"
          }
        }
      ],
      "source": [
        "# We can going to generate m sets of data, where each set has n data points. \n",
        "# From each set, we will take the sample mean, and plot the histogram of the sample means\n",
        "# let's generate samples from Expo(2)\n",
        "m=20\n",
        "n=100\n",
        "sample_means=[]\n",
        "rnd.seed(3)\n",
        "for i in range(m):\n",
        "  x=[]  \n",
        "  for j in range(n):\n",
        "    x.append(rnd.exponential(2))\n",
        "  sample_means.append(np.mean(x))\n",
        "\n",
        "    \n",
        " \n",
        "\n",
        "\n",
        "plt.hist(sample_means)"
      ]
    },
    {
      "cell_type": "code",
      "source": [
        "m=20\n",
        "n=100\n",
        "sample_means=[]\n",
        "rnd.seed(3)\n",
        "for i in range(m):\n",
        "  x=[]  \n",
        "  for j in range(n):\n",
        "    x.append(rnd.exponential(2))\n",
        "  sample_means.append(np.mean(x))\n",
        "\n",
        "    \n",
        " \n",
        "\n",
        "\n",
        "plt.hist(sample_means,bins=20)"
      ],
      "metadata": {
        "colab": {
          "base_uri": "https://localhost:8080/",
          "height": 404
        },
        "id": "as7HZ0JQPIIF",
        "outputId": "258c2c09-ccc3-4158-d035-46a290b7300a"
      },
      "execution_count": 27,
      "outputs": [
        {
          "output_type": "execute_result",
          "data": {
            "text/plain": [
              "(array([2., 1., 1., 1., 1., 3., 1., 2., 2., 1., 1., 0., 3., 0., 0., 0., 0.,\n",
              "        0., 0., 1.]),\n",
              " array([1.71516653, 1.75511447, 1.79506242, 1.83501036, 1.87495831,\n",
              "        1.91490625, 1.9548542 , 1.99480214, 2.03475009, 2.07469803,\n",
              "        2.11464598, 2.15459392, 2.19454187, 2.23448981, 2.27443776,\n",
              "        2.31438571, 2.35433365, 2.3942816 , 2.43422954, 2.47417749,\n",
              "        2.51412543]),\n",
              " <a list of 20 Patch objects>)"
            ]
          },
          "metadata": {},
          "execution_count": 27
        },
        {
          "output_type": "display_data",
          "data": {
            "text/plain": [
              "<Figure size 432x288 with 1 Axes>"
            ],
            "image/png": "[encoded data removed]"
          },
          "metadata": {
            "needs_background": "light"
          }
        }
      ]
    },
    {
      "cell_type": "markdown",
      "metadata": {
        "id": "u3USDWsK7f5V"
      },
      "source": [
        "***Note: The Above construct of ```inner for-loop``` for the samples, and the ```outer for-loop``` for the sample means is common in simulation***"
      ]
    },
    {
      "cell_type": "code",
      "execution_count": 28,
      "metadata": {
        "id": "eIBANT3hNHd7",
        "colab": {
          "base_uri": "https://localhost:8080/",
          "height": 439
        },
        "outputId": "f0bd9ba9-70c6-42aa-8165-07ae16932069"
      },
      "outputs": [
        {
          "output_type": "execute_result",
          "data": {
            "text/plain": [
              "(array([2., 0., 1., 0., 1., 1., 0., 2., 2., 1., 1., 1., 2., 0., 1., 0., 1.,\n",
              "        0., 1., 2., 0., 0., 0., 0., 0., 0., 0., 0., 0., 1.]),\n",
              " array([1.71516653, 1.74179849, 1.76843045, 1.79506242, 1.82169438,\n",
              "        1.84832634, 1.87495831, 1.90159027, 1.92822223, 1.9548542 ,\n",
              "        1.98148616, 2.00811812, 2.03475009, 2.06138205, 2.08801402,\n",
              "        2.11464598, 2.14127794, 2.16790991, 2.19454187, 2.22117383,\n",
              "        2.2478058 , 2.27443776, 2.30106972, 2.32770169, 2.35433365,\n",
              "        2.38096561, 2.40759758, 2.43422954, 2.46086151, 2.48749347,\n",
              "        2.51412543]),\n",
              " <a list of 30 Patch objects>)"
            ]
          },
          "metadata": {},
          "execution_count": 28
        },
        {
          "output_type": "display_data",
          "data": {
            "text/plain": [
              "<Figure size 432x288 with 1 Axes>"
            ],
            "image/png": "[encoded data removed]"
          },
          "metadata": {
            "needs_background": "light"
          }
        }
      ],
      "source": [
        "# However, we can write a compact code using list comprehension\n",
        "n=100\n",
        "rnd.seed(3)\n",
        "sample_means = [np.mean(rnd.exponential(2,n)) for i in range(m)]\n",
        "\n",
        "plt.hist(sample_means, bins=30)"
      ]
    },
    {
      "cell_type": "markdown",
      "metadata": {
        "id": "6aCnd7u878a5"
      },
      "source": [
        "##Exercise to try\n",
        "**P1: Compute P{2X+Y} <= 10, where X ~ triangular(1,3,8) and Y ~ discrete uniform[1,6] (i.e., sampling Y is like rolling a die)** \n",
        "\n",
        "Compute probability with at least 4 decimal place accuracy"
      ]
    },
    {
      "cell_type": "code",
      "execution_count": 29,
      "metadata": {
        "colab": {
          "base_uri": "https://localhost:8080/"
        },
        "id": "tsQo2L3J6dnw",
        "outputId": "f72275bb-bc75-4823-d6d9-b8272fc238da"
      },
      "outputs": [
        {
          "output_type": "stream",
          "name": "stdout",
          "text": [
            "p{2X+Y<=10}  = 0.3501\n"
          ]
        }
      ],
      "source": [
        "v=[]\n",
        "n=10**4\n",
        "for i in range(n):\n",
        "  v.append(2*rnd.triangular(1,3,8)+rnd.randint(1,6+1))\n",
        "count=0\n",
        "for j in range(len(v)):\n",
        "  if v[j]<=10:\n",
        "    count=count+1\n",
        "print(\"p{2X+Y<=10}  =\",count/n)"
      ]
    },
    {
      "cell_type": "code",
      "source": [],
      "metadata": {
        "id": "k9aL8CowXr08"
      },
      "execution_count": 29,
      "outputs": []
    },
    {
      "cell_type": "markdown",
      "metadata": {
        "id": "c92ZtglCKHkf"
      },
      "source": [
        "**P2a: Suppose we have 5 courses: C1, C2, C3, C4 and C5. Now, 750 students have to each choose one course out of the five.**\n",
        "(i)  Suppose each student chooses any of the course with equal probability. Simulate and count the number of students opting for each course. Simulate 10 different outcome scenarios. Make a bar chart of an outcome scenario.\n"
      ]
    },
    {
      "cell_type": "code",
      "source": [
        "from collections import Counter\n",
        "coursecount=dict(Counter(rnd.choice(['c1','c2','c3','c4','c5'],size=750,p=[0.20,0.20,0.20,0.20,0.20])))\n",
        "plt.bar(coursecount.keys(),coursecount.values())"
      ],
      "metadata": {
        "colab": {
          "base_uri": "https://localhost:8080/",
          "height": 282
        },
        "id": "d3pTKdUXgJ8n",
        "outputId": "f877b4f8-748e-4069-f9b6-4ce3d862d2d9"
      },
      "execution_count": 30,
      "outputs": [
        {
          "output_type": "execute_result",
          "data": {
            "text/plain": [
              "<BarContainer object of 5 artists>"
            ]
          },
          "metadata": {},
          "execution_count": 30
        },
        {
          "output_type": "display_data",
          "data": {
            "text/plain": [
              "<Figure size 432x288 with 1 Axes>"
            ],
            "image/png": "[encoded data removed]"
          },
          "metadata": {
            "needs_background": "light"
          }
        }
      ]
    },
    {
      "cell_type": "code",
      "source": [
        "count=pd.DataFrame.from_dict(coursecount,orient='index').sort_index()\n",
        "count"
      ],
      "metadata": {
        "colab": {
          "base_uri": "https://localhost:8080/",
          "height": 206
        },
        "id": "MciOgH6ujkb8",
        "outputId": "12be2a3c-9770-4195-8501-72c424fc647d"
      },
      "execution_count": 31,
      "outputs": [
        {
          "output_type": "execute_result",
          "data": {
            "text/plain": [
              "      0\n",
              "c1  151\n",
              "c2  145\n",
              "c3  165\n",
              "c4  149\n",
              "c5  140"
            ],
            "text/html": [
              "\n",
              "  <div id=\"df-eee4073d-2f02-48d5-b2a9-f51dce05acb8\">\n",
              "    <div class=\"colab-df-container\">\n",
              "      <div>\n",
              "<style scoped>\n",
              "    .dataframe tbody tr th:only-of-type {\n",
              "        vertical-align: middle;\n",
              "    }\n",
              "\n",
              "    .dataframe tbody tr th {\n",
              "        vertical-align: top;\n",
              "    }\n",
              "\n",
              "    .dataframe thead th {\n",
              "        text-align: right;\n",
              "    }\n",
              "</style>\n",
              "<table border=\"1\" class=\"dataframe\">\n",
              "  <thead>\n",
              "    <tr style=\"text-align: right;\">\n",
              "      <th></th>\n",
              "      <th>0</th>\n",
              "    </tr>\n",
              "  </thead>\n",
              "  <tbody>\n",
              "    <tr>\n",
              "      <th>c1</th>\n",
              "      <td>151</td>\n",
              "    </tr>\n",
              "    <tr>\n",
              "      <th>c2</th>\n",
              "      <td>145</td>\n",
              "    </tr>\n",
              "    <tr>\n",
              "      <th>c3</th>\n",
              "      <td>165</td>\n",
              "    </tr>\n",
              "    <tr>\n",
              "      <th>c4</th>\n",
              "      <td>149</td>\n",
              "    </tr>\n",
              "    <tr>\n",
              "      <th>c5</th>\n",
              "      <td>140</td>\n",
              "    </tr>\n",
              "  </tbody>\n",
              "</table>\n",
              "</div>\n",
              "      <button class=\"colab-df-convert\" onclick=\"convertToInteractive('df-eee4073d-2f02-48d5-b2a9-f51dce05acb8')\"\n",
              "              title=\"Convert this dataframe to an interactive table.\"\n",
              "              style=\"display:none;\">\n",
              "        \n",
              "  <svg xmlns=\"http://www.w3.org/2000/svg\" height=\"24px\"viewBox=\"0 0 24 24\"\n",
              "       width=\"24px\">\n",
              "    <path d=\"M0 0h24v24H0V0z\" fill=\"none\"/>\n",
              "    <path d=\"M18.56 5.44l.94 2.06.94-2.06 2.06-.94-2.06-.94-.94-2.06-.94 2.06-2.06.94zm-11 1L8.5 8.5l.94-2.06 2.06-.94-2.06-.94L8.5 2.5l-.94 2.06-2.06.94zm10 10l.94 2.06.94-2.06 2.06-.94-2.06-.94-.94-2.06-.94 2.06-2.06.94z\"/><path d=\"M17.41 7.96l-1.37-1.37c-.4-.4-.92-.59-1.43-.59-.52 0-1.04.2-1.43.59L10.3 9.45l-7.72 7.72c-.78.78-.78 2.05 0 2.83L4 21.41c.39.39.9.59 1.41.59.51 0 1.02-.2 1.41-.59l7.78-7.78 2.81-2.81c.8-.78.8-2.07 0-2.86zM5.41 20L4 18.59l7.72-7.72 1.47 1.35L5.41 20z\"/>\n",
              "  </svg>\n",
              "      </button>\n",
              "      \n",
              "  <style>\n",
              "    .colab-df-container {\n",
              "      display:flex;\n",
              "      flex-wrap:wrap;\n",
              "      gap: 12px;\n",
              "    }\n",
              "\n",
              "    .colab-df-convert {\n",
              "      background-color: #E8F0FE;\n",
              "      border: none;\n",
              "      border-radius: 50%;\n",
              "      cursor: pointer;\n",
              "      display: none;\n",
              "      fill: #1967D2;\n",
              "      height: 32px;\n",
              "      padding: 0 0 0 0;\n",
              "      width: 32px;\n",
              "    }\n",
              "\n",
              "    .colab-df-convert:hover {\n",
              "      background-color: #E2EBFA;\n",
              "      box-shadow: 0px 1px 2px rgba(60, 64, 67, 0.3), 0px 1px 3px 1px rgba(60, 64, 67, 0.15);\n",
              "      fill: #174EA6;\n",
              "    }\n",
              "\n",
              "    [theme=dark] .colab-df-convert {\n",
              "      background-color: #3B4455;\n",
              "      fill: #D2E3FC;\n",
              "    }\n",
              "\n",
              "    [theme=dark] .colab-df-convert:hover {\n",
              "      background-color: #434B5C;\n",
              "      box-shadow: 0px 1px 3px 1px rgba(0, 0, 0, 0.15);\n",
              "      filter: drop-shadow(0px 1px 2px rgba(0, 0, 0, 0.3));\n",
              "      fill: #FFFFFF;\n",
              "    }\n",
              "  </style>\n",
              "\n",
              "      <script>\n",
              "        const buttonEl =\n",
              "          document.querySelector('#df-eee4073d-2f02-48d5-b2a9-f51dce05acb8 button.colab-df-convert');\n",
              "        buttonEl.style.display =\n",
              "          google.colab.kernel.accessAllowed ? 'block' : 'none';\n",
              "\n",
              "        async function convertToInteractive(key) {\n",
              "          const element = document.querySelector('#df-eee4073d-2f02-48d5-b2a9-f51dce05acb8');\n",
              "          const dataTable =\n",
              "            await google.colab.kernel.invokeFunction('convertToInteractive',\n",
              "                                                     [key], {});\n",
              "          if (!dataTable) return;\n",
              "\n",
              "          const docLinkHtml = 'Like what you see? Visit the ' +\n",
              "            '<a target=\"_blank\" href=https://colab.research.google.com/notebooks/data_table.ipynb>data table notebook</a>'\n",
              "            + ' to learn more about interactive tables.';\n",
              "          element.innerHTML = '';\n",
              "          dataTable['output_type'] = 'display_data';\n",
              "          await google.colab.output.renderOutput(dataTable, element);\n",
              "          const docLink = document.createElement('div');\n",
              "          docLink.innerHTML = docLinkHtml;\n",
              "          element.appendChild(docLink);\n",
              "        }\n",
              "      </script>\n",
              "    </div>\n",
              "  </div>\n",
              "  "
            ]
          },
          "metadata": {},
          "execution_count": 31
        }
      ]
    },
    {
      "cell_type": "code",
      "source": [
        "n=10\n",
        "for i in range(n):\n",
        "  c=pd.DataFrame.from_dict(dict(Counter(rnd.choice(['c1','c2','c3','c4','c5'],size=750,p=[0.20,0.20,0.20,0.20,0.20]))),orient='index')\n",
        "  count[i]=c"
      ],
      "metadata": {
        "id": "Hjsa7VtSlmrT"
      },
      "execution_count": 32,
      "outputs": []
    },
    {
      "cell_type": "code",
      "source": [
        "count"
      ],
      "metadata": {
        "colab": {
          "base_uri": "https://localhost:8080/",
          "height": 206
        },
        "id": "WgGLHrZ0qDf0",
        "outputId": "803e3bcc-fc0f-4d96-c6cd-019112ead8fc"
      },
      "execution_count": 33,
      "outputs": [
        {
          "output_type": "execute_result",
          "data": {
            "text/plain": [
              "      0    1    2    3    4    5    6    7    8    9\n",
              "c1  143  160  143  137  165  150  148  138  144  152\n",
              "c2  177  148  161  144  126  158  161  158  180  156\n",
              "c3  137  154  137  166  137  135  139  127  143  130\n",
              "c4  145  148  169  145  161  153  143  165  135  156\n",
              "c5  148  140  140  158  161  154  159  162  148  156"
            ],
            "text/html": [
              "\n",
              "  <div id=\"df-26e40146-5740-45a3-bb90-8b83602b0807\">\n",
              "    <div class=\"colab-df-container\">\n",
              "      <div>\n",
              "<style scoped>\n",
              "    .dataframe tbody tr th:only-of-type {\n",
              "        vertical-align: middle;\n",
              "    }\n",
              "\n",
              "    .dataframe tbody tr th {\n",
              "        vertical-align: top;\n",
              "    }\n",
              "\n",
              "    .dataframe thead th {\n",
              "        text-align: right;\n",
              "    }\n",
              "</style>\n",
              "<table border=\"1\" class=\"dataframe\">\n",
              "  <thead>\n",
              "    <tr style=\"text-align: right;\">\n",
              "      <th></th>\n",
              "      <th>0</th>\n",
              "      <th>1</th>\n",
              "      <th>2</th>\n",
              "      <th>3</th>\n",
              "      <th>4</th>\n",
              "      <th>5</th>\n",
              "      <th>6</th>\n",
              "      <th>7</th>\n",
              "      <th>8</th>\n",
              "      <th>9</th>\n",
              "    </tr>\n",
              "  </thead>\n",
              "  <tbody>\n",
              "    <tr>\n",
              "      <th>c1</th>\n",
              "      <td>143</td>\n",
              "      <td>160</td>\n",
              "      <td>143</td>\n",
              "      <td>137</td>\n",
              "      <td>165</td>\n",
              "      <td>150</td>\n",
              "      <td>148</td>\n",
              "      <td>138</td>\n",
              "      <td>144</td>\n",
              "      <td>152</td>\n",
              "    </tr>\n",
              "    <tr>\n",
              "      <th>c2</th>\n",
              "      <td>177</td>\n",
              "      <td>148</td>\n",
              "      <td>161</td>\n",
              "      <td>144</td>\n",
              "      <td>126</td>\n",
              "      <td>158</td>\n",
              "      <td>161</td>\n",
              "      <td>158</td>\n",
              "      <td>180</td>\n",
              "      <td>156</td>\n",
              "    </tr>\n",
              "    <tr>\n",
              "      <th>c3</th>\n",
              "      <td>137</td>\n",
              "      <td>154</td>\n",
              "      <td>137</td>\n",
              "      <td>166</td>\n",
              "      <td>137</td>\n",
              "      <td>135</td>\n",
              "      <td>139</td>\n",
              "      <td>127</td>\n",
              "      <td>143</td>\n",
              "      <td>130</td>\n",
              "    </tr>\n",
              "    <tr>\n",
              "      <th>c4</th>\n",
              "      <td>145</td>\n",
              "      <td>148</td>\n",
              "      <td>169</td>\n",
              "      <td>145</td>\n",
              "      <td>161</td>\n",
              "      <td>153</td>\n",
              "      <td>143</td>\n",
              "      <td>165</td>\n",
              "      <td>135</td>\n",
              "      <td>156</td>\n",
              "    </tr>\n",
              "    <tr>\n",
              "      <th>c5</th>\n",
              "      <td>148</td>\n",
              "      <td>140</td>\n",
              "      <td>140</td>\n",
              "      <td>158</td>\n",
              "      <td>161</td>\n",
              "      <td>154</td>\n",
              "      <td>159</td>\n",
              "      <td>162</td>\n",
              "      <td>148</td>\n",
              "      <td>156</td>\n",
              "    </tr>\n",
              "  </tbody>\n",
              "</table>\n",
              "</div>\n",
              "      <button class=\"colab-df-convert\" onclick=\"convertToInteractive('df-26e40146-5740-45a3-bb90-8b83602b0807')\"\n",
              "              title=\"Convert this dataframe to an interactive table.\"\n",
              "              style=\"display:none;\">\n",
              "        \n",
              "  <svg xmlns=\"http://www.w3.org/2000/svg\" height=\"24px\"viewBox=\"0 0 24 24\"\n",
              "       width=\"24px\">\n",
              "    <path d=\"M0 0h24v24H0V0z\" fill=\"none\"/>\n",
              "    <path d=\"M18.56 5.44l.94 2.06.94-2.06 2.06-.94-2.06-.94-.94-2.06-.94 2.06-2.06.94zm-11 1L8.5 8.5l.94-2.06 2.06-.94-2.06-.94L8.5 2.5l-.94 2.06-2.06.94zm10 10l.94 2.06.94-2.06 2.06-.94-2.06-.94-.94-2.06-.94 2.06-2.06.94z\"/><path d=\"M17.41 7.96l-1.37-1.37c-.4-.4-.92-.59-1.43-.59-.52 0-1.04.2-1.43.59L10.3 9.45l-7.72 7.72c-.78.78-.78 2.05 0 2.83L4 21.41c.39.39.9.59 1.41.59.51 0 1.02-.2 1.41-.59l7.78-7.78 2.81-2.81c.8-.78.8-2.07 0-2.86zM5.41 20L4 18.59l7.72-7.72 1.47 1.35L5.41 20z\"/>\n",
              "  </svg>\n",
              "      </button>\n",
              "      \n",
              "  <style>\n",
              "    .colab-df-container {\n",
              "      display:flex;\n",
              "      flex-wrap:wrap;\n",
              "      gap: 12px;\n",
              "    }\n",
              "\n",
              "    .colab-df-convert {\n",
              "      background-color: #E8F0FE;\n",
              "      border: none;\n",
              "      border-radius: 50%;\n",
              "      cursor: pointer;\n",
              "      display: none;\n",
              "      fill: #1967D2;\n",
              "      height: 32px;\n",
              "      padding: 0 0 0 0;\n",
              "      width: 32px;\n",
              "    }\n",
              "\n",
              "    .colab-df-convert:hover {\n",
              "      background-color: #E2EBFA;\n",
              "      box-shadow: 0px 1px 2px rgba(60, 64, 67, 0.3), 0px 1px 3px 1px rgba(60, 64, 67, 0.15);\n",
              "      fill: #174EA6;\n",
              "    }\n",
              "\n",
              "    [theme=dark] .colab-df-convert {\n",
              "      background-color: #3B4455;\n",
              "      fill: #D2E3FC;\n",
              "    }\n",
              "\n",
              "    [theme=dark] .colab-df-convert:hover {\n",
              "      background-color: #434B5C;\n",
              "      box-shadow: 0px 1px 3px 1px rgba(0, 0, 0, 0.15);\n",
              "      filter: drop-shadow(0px 1px 2px rgba(0, 0, 0, 0.3));\n",
              "      fill: #FFFFFF;\n",
              "    }\n",
              "  </style>\n",
              "\n",
              "      <script>\n",
              "        const buttonEl =\n",
              "          document.querySelector('#df-26e40146-5740-45a3-bb90-8b83602b0807 button.colab-df-convert');\n",
              "        buttonEl.style.display =\n",
              "          google.colab.kernel.accessAllowed ? 'block' : 'none';\n",
              "\n",
              "        async function convertToInteractive(key) {\n",
              "          const element = document.querySelector('#df-26e40146-5740-45a3-bb90-8b83602b0807');\n",
              "          const dataTable =\n",
              "            await google.colab.kernel.invokeFunction('convertToInteractive',\n",
              "                                                     [key], {});\n",
              "          if (!dataTable) return;\n",
              "\n",
              "          const docLinkHtml = 'Like what you see? Visit the ' +\n",
              "            '<a target=\"_blank\" href=https://colab.research.google.com/notebooks/data_table.ipynb>data table notebook</a>'\n",
              "            + ' to learn more about interactive tables.';\n",
              "          element.innerHTML = '';\n",
              "          dataTable['output_type'] = 'display_data';\n",
              "          await google.colab.output.renderOutput(dataTable, element);\n",
              "          const docLink = document.createElement('div');\n",
              "          docLink.innerHTML = docLinkHtml;\n",
              "          element.appendChild(docLink);\n",
              "        }\n",
              "      </script>\n",
              "    </div>\n",
              "  </div>\n",
              "  "
            ]
          },
          "metadata": {},
          "execution_count": 33
        }
      ]
    },
    {
      "cell_type": "code",
      "source": [
        "print('probability of opting c1 course',(sum(count.loc['c1',:])/n)/750)\n",
        "print('probability of opting c2 course',(sum(count.loc['c2',:])/n)/750)\n",
        "print('probability of opting c3 course',(sum(count.loc['c3',:])/n)/750)\n",
        "print('probability of opting c4 course',(sum(count.loc['c4',:])/n)/750)\n",
        "print('probability of opting c5 course',(sum(count.loc['c5',:])/n)/750)"
      ],
      "metadata": {
        "colab": {
          "base_uri": "https://localhost:8080/"
        },
        "id": "GdKy_aTHrAO4",
        "outputId": "c7a82665-287d-4928-881b-6d4dafb52056"
      },
      "execution_count": 34,
      "outputs": [
        {
          "output_type": "stream",
          "name": "stdout",
          "text": [
            "probability of opting c1 course 0.19733333333333333\n",
            "probability of opting c2 course 0.2092\n",
            "probability of opting c3 course 0.18733333333333332\n",
            "probability of opting c4 course 0.20266666666666666\n",
            "probability of opting c5 course 0.20346666666666666\n"
          ]
        }
      ]
    },
    {
      "cell_type": "code",
      "source": [
        "count.plot(kind='bar')\n",
        "plt.legend(bbox_to_anchor=(1.05, 1.0),loc=2)"
      ],
      "metadata": {
        "colab": {
          "base_uri": "https://localhost:8080/",
          "height": 284
        },
        "id": "PX_8StHqu0_t",
        "outputId": "a257b4f8-926d-4ece-c21a-46f9b808c371"
      },
      "execution_count": 35,
      "outputs": [
        {
          "output_type": "execute_result",
          "data": {
            "text/plain": [
              "<matplotlib.legend.Legend at 0x7f31c9389490>"
            ]
          },
          "metadata": {},
          "execution_count": 35
        },
        {
          "output_type": "display_data",
          "data": {
            "text/plain": [
              "<Figure size 432x288 with 1 Axes>"
            ],
            "image/png": "[encoded data removed]"
          },
          "metadata": {
            "needs_background": "light"
          }
        }
      ]
    },
    {
      "cell_type": "code",
      "execution_count": 36,
      "metadata": {
        "id": "3w8cIQPjMX2D"
      },
      "outputs": [],
      "source": [
        "o=[]\n",
        "n=10\n",
        "for i in range(n):\n",
        "  r=rnd.choice(['c1','c2','c3','c4','c5'],size=750,p=[0.20,0.20,0.20,0.20,0.20])\n",
        "  d=[0 for i in range(5)]\n",
        "  for i in r: \n",
        "    if i=='c1':\n",
        "      d[0]+=1\n",
        "    if i=='c2':\n",
        "      d[1]+=1\n",
        "    if i=='c3':\n",
        "        d[2]+=1\n",
        "    if i=='c4':\n",
        "      d[3]+=1\n",
        "    if i=='c5':\n",
        "      d[4]+=1\n",
        "  o.append(d)"
      ]
    },
    {
      "cell_type": "code",
      "source": [
        "c1=[o[i][0] for i in range(n)]\n",
        "c2=[o[i][1] for i in range(n)]\n",
        "c3=[o[i][2] for i in range(n)]\n",
        "c4=[o[i][3] for i in range(n)]\n",
        "c5=[o[i][4] for i in range(n)]\n"
      ],
      "metadata": {
        "id": "N-VtzKU6OU69"
      },
      "execution_count": 37,
      "outputs": []
    },
    {
      "cell_type": "code",
      "source": [
        "pd.DataFrame.from_dict({'c1':c1,'c2':c2,'c3':c3,'c4':c4,'c5':c5}).plot(kind='bar')\n",
        "plt.legend(bbox_to_anchor=(1.05, 1.0),loc=2)"
      ],
      "metadata": {
        "colab": {
          "base_uri": "https://localhost:8080/",
          "height": 279
        },
        "id": "O0GbOnsnS7Ah",
        "outputId": "75c638dc-d419-4817-986a-0fa98d11e415"
      },
      "execution_count": 38,
      "outputs": [
        {
          "output_type": "execute_result",
          "data": {
            "text/plain": [
              "<matplotlib.legend.Legend at 0x7f31bf6adc50>"
            ]
          },
          "metadata": {},
          "execution_count": 38
        },
        {
          "output_type": "display_data",
          "data": {
            "text/plain": [
              "<Figure size 432x288 with 1 Axes>"
            ],
            "image/png": "[encoded data removed]"
          },
          "metadata": {
            "needs_background": "light"
          }
        }
      ]
    },
    {
      "cell_type": "markdown",
      "metadata": {
        "id": "g0TfW8UvMhLe"
      },
      "source": [
        "**P2b: Suppose we have 5 courses: C1, C2, C3, C4 and C5. Now, 750 students have to each choose one course out of the five.**\n",
        "(ii) Suppose each student choose courses such that the probability of choosing C1 > prob. of choosing C2 > prob. of choosing C3 > prob. of choosing C4 > prob. of choosing C5. You come up the with the probability values. Simulate and observe if the outcomes matches the probabiliy values you have taken.  Make a bar chart of an outcome scenario."
      ]
    },
    {
      "cell_type": "code",
      "execution_count": 39,
      "metadata": {
        "id": "wCxv1JOYMptx",
        "colab": {
          "base_uri": "https://localhost:8080/"
        },
        "outputId": "12af727d-d092-4775-ee75-61e72c0c1172"
      },
      "outputs": [
        {
          "output_type": "stream",
          "name": "stdout",
          "text": [
            "probability of c1 0.3933333333333333\n",
            "probability of c2 0.284\n",
            "probability of c3 0.16933333333333334\n",
            "probability of c4 0.09466666666666666\n",
            "probability of c5 0.058666666666666666\n"
          ]
        }
      ],
      "source": [
        "a=dict(Counter(rnd.choice(['c1','c2','c3','c4','c5'],size=750,p=[0.4,0.3,0.15,0.10,0.05])))\n",
        "print('probability of c1',a['c1']/750)\n",
        "print('probability of c2',a['c2']/750)\n",
        "print('probability of c3',a['c3']/750)\n",
        "print('probability of c4',a['c4']/750)\n",
        "print('probability of c5',a['c5']/750)"
      ]
    },
    {
      "cell_type": "markdown",
      "source": [
        "yes probability of outcomes is approx same"
      ],
      "metadata": {
        "id": "V9in8gefP_iW"
      }
    },
    {
      "cell_type": "code",
      "source": [
        "count=pd.DataFrame.from_dict(coursecount,orient='index').sort_index()\n",
        "n=10\n",
        "for i in range(n):\n",
        "  c=pd.DataFrame.from_dict(dict(Counter(rnd.choice(['c1','c2','c3','c4','c5'],size=750,p=[0.40,0.3,0.15,0.10,0.05]))),orient='index')\n",
        "  count[i]=c\n",
        "print('probability of opting c1 course',(sum(count.loc['c1',:])/n)/750)\n",
        "print('probability of opting c2 course',(sum(count.loc['c2',:])/n)/750)\n",
        "print('probability of opting c3 course',(sum(count.loc['c3',:])/n)/750)\n",
        "print('probability of opting c4 course',(sum(count.loc['c4',:])/n)/750)\n",
        "print('probability of opting c5 course',(sum(count.loc['c5',:])/n)/750)\n"
      ],
      "metadata": {
        "colab": {
          "base_uri": "https://localhost:8080/"
        },
        "id": "aqSZLHSuQNBu",
        "outputId": "51acaef0-be47-475b-f8bd-ef3f0e79bcee"
      },
      "execution_count": 40,
      "outputs": [
        {
          "output_type": "stream",
          "name": "stdout",
          "text": [
            "probability of opting c1 course 0.4054666666666667\n",
            "probability of opting c2 course 0.2961333333333333\n",
            "probability of opting c3 course 0.14693333333333333\n",
            "probability of opting c4 course 0.09906666666666666\n",
            "probability of opting c5 course 0.052399999999999995\n"
          ]
        }
      ]
    },
    {
      "cell_type": "code",
      "source": [
        "pd.DataFrame.from_dict(a,orient='index').sort_index().plot(kind='bar');"
      ],
      "metadata": {
        "colab": {
          "base_uri": "https://localhost:8080/",
          "height": 267
        },
        "id": "U4Wk4Rv5wGpz",
        "outputId": "8bd96577-1646-4393-f944-e3241eda7efc"
      },
      "execution_count": 41,
      "outputs": [
        {
          "output_type": "display_data",
          "data": {
            "text/plain": [
              "<Figure size 432x288 with 1 Axes>"
            ],
            "image/png": "[encoded data removed]"
          },
          "metadata": {
            "needs_background": "light"
          }
        }
      ]
    },
    {
      "cell_type": "code",
      "source": [
        "count.plot(kind='bar')"
      ],
      "metadata": {
        "colab": {
          "base_uri": "https://localhost:8080/",
          "height": 284
        },
        "id": "aNz0UKBDRB-E",
        "outputId": "43ef2bed-99d3-4f3c-9da3-7b72015ea47e"
      },
      "execution_count": 42,
      "outputs": [
        {
          "output_type": "execute_result",
          "data": {
            "text/plain": [
              "<matplotlib.axes._subplots.AxesSubplot at 0x7f31bf58f550>"
            ]
          },
          "metadata": {},
          "execution_count": 42
        },
        {
          "output_type": "display_data",
          "data": {
            "text/plain": [
              "<Figure size 432x288 with 1 Axes>"
            ],
            "image/png": "[encoded data removed]"
          },
          "metadata": {
            "needs_background": "light"
          }
        }
      ]
    },
    {
      "cell_type": "code",
      "source": [],
      "metadata": {
        "id": "l3RrimLARIWR"
      },
      "execution_count": 42,
      "outputs": []
    }
  ],
  "metadata": {
    "colab": {
      "collapsed_sections": [],
      "provenance": []
    },
    "kernelspec": {
      "display_name": "Python 3",
      "name": "python3"
    }
  },
  "nbformat": 4,
  "nbformat_minor": 0
}